{
 "cells": [
  {
   "cell_type": "code",
   "execution_count": 1,
   "metadata": {},
   "outputs": [
    {
     "name": "stdout",
     "output_type": "stream",
     "text": [
      "Hello, World!\n"
     ]
    }
   ],
   "source": [
    "print(\"Hello, World!\")\n"
   ]
  },
  {
   "cell_type": "code",
   "execution_count": 2,
   "metadata": {},
   "outputs": [
    {
     "name": "stdout",
     "output_type": "stream",
     "text": [
      "hello\n",
      "hello\n",
      "hello\n"
     ]
    }
   ],
   "source": [
    "for _ in [1,2,3]:\n",
    "    print(\"hello\")"
   ]
  },
  {
   "cell_type": "code",
   "execution_count": 2,
   "metadata": {},
   "outputs": [
    {
     "name": "stderr",
     "output_type": "stream",
     "text": [
      "Small block threshold = 512, in 32 size classes.\n",
      "\n",
      "class   size   num pools   blocks in use  avail blocks\n",
      "-----   ----   ---------   -------------  ------------\n",
      "    0     16           4            3583           501\n",
      "    1     32          61           30739           371\n",
      "    2     48         152           49932          1748\n",
      "    3     64         582          147114          1296\n",
      "    4     80         324           65754           342\n",
      "    5     96         141           23932            38\n",
      "    6    112          74           10604           126\n",
      "    7    128         119           15076            37\n",
      "    8    144          47            5251            60\n",
      "    9    160         230           23397            63\n",
      "   10    176          27            2402            82\n",
      "   11    192          33            2721            84\n",
      "   12    208         162           12611            25\n",
      "   13    224          64            4543            65\n",
      "   14    240          53            3596             8\n",
      "   15    256          45            2819            16\n",
      "   16    272          43            2544            36\n",
      "   17    288          33            1817            31\n",
      "   18    304          28            1476             8\n",
      "   19    320          25            1266             9\n",
      "   20    336          23            1075            29\n",
      "   21    352          22             947            65\n",
      "   22    368          21             921             3\n",
      "   23    384          20             783            57\n",
      "   24    400          57            2259            21\n",
      "   25    416          18             677            25\n",
      "   26    432          15             544            11\n",
      "   27    448          14             495             9\n",
      "   28    464          14             468            22\n",
      "   29    480          13             414            28\n",
      "   30    496          12             380             4\n",
      "   31    512          20             619             1\n",
      "\n",
      "# arenas allocated total           =                   40\n",
      "# arenas reclaimed                 =                    0\n",
      "# arenas highwater mark            =                   40\n",
      "# arenas allocated current         =                   40\n",
      "40 arenas * 1048576 bytes/arena    =           41,943,040\n",
      "\n",
      "# bytes in allocated blocks        =           40,164,960\n",
      "# bytes in available blocks        =              445,024\n",
      "25 unused pools * 16384 bytes      =              409,600\n",
      "# bytes lost to pool headers       =              119,808\n",
      "# bytes lost to quantization       =              164,672\n",
      "# bytes lost to arena alignment    =              638,976\n",
      "Total                              =           41,943,040\n",
      "\n",
      "arena map counts\n",
      "# arena map mid nodes              =                    1\n",
      "# arena map bot nodes              =                    1\n",
      "\n",
      "# bytes lost to arena map root     =              262,144\n",
      "# bytes lost to arena map mid      =              262,144\n",
      "# bytes lost to arena map bot      =              131,072\n",
      "Total                              =              655,360\n",
      "\n",
      "           62 free PyDictObjects * 48 bytes each =                2,976\n",
      "           7 free PyFloatObjects * 24 bytes each =                  168\n",
      "           67 free PyListObjects * 40 bytes each =                2,680\n",
      "  22 free 1-sized PyTupleObjects * 32 bytes each =                  704\n",
      "1987 free 2-sized PyTupleObjects * 40 bytes each =               79,480\n",
      "  68 free 3-sized PyTupleObjects * 48 bytes each =                3,264\n",
      " 144 free 4-sized PyTupleObjects * 56 bytes each =                8,064\n",
      "  75 free 5-sized PyTupleObjects * 64 bytes each =                4,800\n",
      " 117 free 6-sized PyTupleObjects * 72 bytes each =                8,424\n",
      "  26 free 7-sized PyTupleObjects * 80 bytes each =                2,080\n",
      "  37 free 8-sized PyTupleObjects * 88 bytes each =                3,256\n",
      "  10 free 9-sized PyTupleObjects * 96 bytes each =                  960\n",
      " 0 free 10-sized PyTupleObjects * 104 bytes each =                    0\n",
      "13 free 11-sized PyTupleObjects * 112 bytes each =                1,456\n",
      "25 free 12-sized PyTupleObjects * 120 bytes each =                3,000\n",
      " 6 free 13-sized PyTupleObjects * 128 bytes each =                  768\n",
      " 9 free 14-sized PyTupleObjects * 136 bytes each =                1,224\n",
      "16 free 15-sized PyTupleObjects * 144 bytes each =                2,304\n",
      "14 free 16-sized PyTupleObjects * 152 bytes each =                2,128\n",
      "13 free 17-sized PyTupleObjects * 160 bytes each =                2,080\n",
      "15 free 18-sized PyTupleObjects * 168 bytes each =                2,520\n",
      "19 free 19-sized PyTupleObjects * 176 bytes each =                3,344\n",
      "48 free 20-sized PyTupleObjects * 184 bytes each =                8,832\n"
     ]
    }
   ],
   "source": [
    "import sys\n",
    "sys._debugmallocstats()"
   ]
  },
  {
   "cell_type": "code",
   "execution_count": 11,
   "metadata": {},
   "outputs": [
    {
     "name": "stdout",
     "output_type": "stream",
     "text": [
      "[5]\n",
      "[5]\n"
     ]
    },
    {
     "data": {
      "text/plain": [
       "2"
      ]
     },
     "execution_count": 11,
     "metadata": {},
     "output_type": "execute_result"
    }
   ],
   "source": []
  }
 ],
 "metadata": {
  "kernelspec": {
   "display_name": "Python 3",
   "language": "python",
   "name": "python3"
  },
  "language_info": {
   "codemirror_mode": {
    "name": "ipython",
    "version": 3
   },
   "file_extension": ".py",
   "mimetype": "text/x-python",
   "name": "python",
   "nbconvert_exporter": "python",
   "pygments_lexer": "ipython3",
   "version": "3.11.1"
  },
  "orig_nbformat": 4
 },
 "nbformat": 4,
 "nbformat_minor": 2
}
